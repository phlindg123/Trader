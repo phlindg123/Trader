{
 "cells": [
  {
   "cell_type": "code",
   "execution_count": 1,
   "id": "9ab6a70c",
   "metadata": {},
   "outputs": [],
   "source": [
    "import pandas as pd\n",
    "import numpy as np"
   ]
  },
  {
   "cell_type": "markdown",
   "id": "512897a4",
   "metadata": {},
   "source": [
    "## Simulated trader\n",
    "    - Create a class that yields prices\n",
    "    - Create a class that gathers exchanges to yield prices (only use binance for now)\n",
    "    "
   ]
  },
  {
   "cell_type": "code",
   "execution_count": 36,
   "id": "bd6ca68b",
   "metadata": {},
   "outputs": [],
   "source": [
    "class Simulated:\n",
    "    def __init__(self, bars):\n",
    "        self.bars = bars\n",
    "        self.market = bars.iterrows()\n",
    "        \n",
    "    def get_bar(self):\n",
    "        return next(self.market)"
   ]
  },
  {
   "cell_type": "code",
   "execution_count": 37,
   "id": "e9d6db1b",
   "metadata": {},
   "outputs": [],
   "source": [
    "bars = pd.read_csv(\"daily.csv\")"
   ]
  },
  {
   "cell_type": "code",
   "execution_count": 38,
   "id": "342c1299",
   "metadata": {},
   "outputs": [],
   "source": [
    "sim = Simulated(bars)\n"
   ]
  },
  {
   "cell_type": "code",
   "execution_count": null,
   "id": "f5ab3d82",
   "metadata": {},
   "outputs": [],
   "source": [
    "class Trader:\n",
    "    def __init__(self, market):\n",
    "        "
   ]
  }
 ],
 "metadata": {
  "kernelspec": {
   "display_name": "Python 3 (ipykernel)",
   "language": "python",
   "name": "python3"
  },
  "language_info": {
   "codemirror_mode": {
    "name": "ipython",
    "version": 3
   },
   "file_extension": ".py",
   "mimetype": "text/x-python",
   "name": "python",
   "nbconvert_exporter": "python",
   "pygments_lexer": "ipython3",
   "version": "3.9.12"
  }
 },
 "nbformat": 4,
 "nbformat_minor": 5
}
