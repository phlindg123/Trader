{
 "cells": [
  {
   "cell_type": "code",
   "execution_count": 3,
   "id": "f740e8fd",
   "metadata": {},
   "outputs": [],
   "source": [
    "from glassnode import GlassnodeClient\n",
    "import pandas as pd\n",
    "import numpy as np"
   ]
  },
  {
   "cell_type": "code",
   "execution_count": 6,
   "id": "5d9bc902",
   "metadata": {},
   "outputs": [],
   "source": [
    "api_key = \"5d78af31-41a7-42b9-814c-f1cf6bf588f7\""
   ]
  },
  {
   "cell_type": "code",
   "execution_count": null,
   "id": "76bfd677",
   "metadata": {},
   "outputs": [],
   "source": []
  },
  {
   "cell_type": "code",
   "execution_count": 7,
   "id": "2044b988",
   "metadata": {},
   "outputs": [],
   "source": [
    "client = GlassnodeClient(api_key)\n",
    "data = client.get(\"addresses\", \"count\", {\"a\": \"BTC\"})"
   ]
  },
  {
   "cell_type": "code",
   "execution_count": 12,
   "id": "92789307",
   "metadata": {},
   "outputs": [],
   "source": [
    "df = pd.DataFrame(data)\n",
    "df.t = pd.to_datetime(df.t, unit=\"s\")"
   ]
  },
  {
   "cell_type": "code",
   "execution_count": 15,
   "id": "d80877dc",
   "metadata": {},
   "outputs": [
    {
     "data": {
      "text/plain": [
       "<AxesSubplot:xlabel='t'>"
      ]
     },
     "execution_count": 15,
     "metadata": {},
     "output_type": "execute_result"
    },
    {
     "data": {
      "image/png": "[encoded data removed]",
      "text/plain": [
       "<Figure size 432x288 with 1 Axes>"
      ]
     },
     "metadata": {
      "needs_background": "light"
     },
     "output_type": "display_data"
    }
   ],
   "source": [
    "df.set_index(\"t\").plot()"
   ]
  },
  {
   "cell_type": "code",
   "execution_count": null,
   "id": "72d5449b",
   "metadata": {},
   "outputs": [],
   "source": []
  }
 ],
 "metadata": {
  "kernelspec": {
   "display_name": "Python 3 (ipykernel)",
   "language": "python",
   "name": "python3"
  },
  "language_info": {
   "codemirror_mode": {
    "name": "ipython",
    "version": 3
   },
   "file_extension": ".py",
   "mimetype": "text/x-python",
   "name": "python",
   "nbconvert_exporter": "python",
   "pygments_lexer": "ipython3",
   "version": "3.9.12"
  }
 },
 "nbformat": 4,
 "nbformat_minor": 5
}
