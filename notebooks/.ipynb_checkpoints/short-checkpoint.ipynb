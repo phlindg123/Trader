{
 "cells": [
  {
   "cell_type": "code",
   "execution_count": 1,
   "id": "245374aa",
   "metadata": {},
   "outputs": [],
   "source": [
    "import pandas as pd\n",
    "import sys; sys.path.append(\"..\")\n",
    "from trader.data.binance import Binance"
   ]
  },
  {
   "cell_type": "code",
   "execution_count": 2,
   "id": "30facc63",
   "metadata": {},
   "outputs": [],
   "source": [
    "b = Binance()"
   ]
  },
  {
   "cell_type": "code",
   "execution_count": 8,
   "id": "e5e0a490",
   "metadata": {},
   "outputs": [],
   "source": [
    "b.client.get_symbol_info(\"USDTBNB\")"
   ]
  },
  {
   "cell_type": "code",
   "execution_count": null,
   "id": "5a2a21c4",
   "metadata": {},
   "outputs": [],
   "source": []
  },
  {
   "cell_type": "code",
   "execution_count": 9,
   "id": "4b42f4d2",
   "metadata": {},
   "outputs": [],
   "source": [
    "start = pd.to_datetime(\"2020-01-01\")\n",
    "end = pd.to_datetime(\"2022-07-01\")\n",
    "bars = b.get_bars([\"BTCUSDT\", \"BNBBTC\", \"BNBUSDT\"], start, end, interval=\"1d\")"
   ]
  },
  {
   "cell_type": "code",
   "execution_count": 10,
   "id": "81f831e8",
   "metadata": {},
   "outputs": [],
   "source": [
    "prices = bars.pivot(index=\"CloseTime\", values=\"Close\", columns = \"Symbol\")"
   ]
  },
  {
   "cell_type": "code",
   "execution_count": 11,
   "id": "885bc9c6",
   "metadata": {},
   "outputs": [
    {
     "data": {
      "text/html": [
       "<div>\n",
       "<style scoped>\n",
       "    .dataframe tbody tr th:only-of-type {\n",
       "        vertical-align: middle;\n",
       "    }\n",
       "\n",
       "    .dataframe tbody tr th {\n",
       "        vertical-align: top;\n",
       "    }\n",
       "\n",
       "    .dataframe thead th {\n",
       "        text-align: right;\n",
       "    }\n",
       "</style>\n",
       "<table border=\"1\" class=\"dataframe\">\n",
       "  <thead>\n",
       "    <tr style=\"text-align: right;\">\n",
       "      <th>Symbol</th>\n",
       "      <th>BNBBTC</th>\n",
       "      <th>BNBUSDT</th>\n",
       "      <th>BTCUSDT</th>\n",
       "    </tr>\n",
       "    <tr>\n",
       "      <th>CloseTime</th>\n",
       "      <th></th>\n",
       "      <th></th>\n",
       "      <th></th>\n",
       "    </tr>\n",
       "  </thead>\n",
       "  <tbody>\n",
       "    <tr>\n",
       "      <th>2020-01-02</th>\n",
       "      <td>0.001904</td>\n",
       "      <td>13.7184</td>\n",
       "      <td>7200.85</td>\n",
       "    </tr>\n",
       "    <tr>\n",
       "      <th>2020-01-03</th>\n",
       "      <td>0.001867</td>\n",
       "      <td>13.0105</td>\n",
       "      <td>6965.71</td>\n",
       "    </tr>\n",
       "    <tr>\n",
       "      <th>2020-01-04</th>\n",
       "      <td>0.001859</td>\n",
       "      <td>13.6474</td>\n",
       "      <td>7344.96</td>\n",
       "    </tr>\n",
       "    <tr>\n",
       "      <th>2020-01-05</th>\n",
       "      <td>0.001876</td>\n",
       "      <td>13.8092</td>\n",
       "      <td>7354.11</td>\n",
       "    </tr>\n",
       "    <tr>\n",
       "      <th>2020-01-06</th>\n",
       "      <td>0.001909</td>\n",
       "      <td>14.0532</td>\n",
       "      <td>7358.75</td>\n",
       "    </tr>\n",
       "    <tr>\n",
       "      <th>...</th>\n",
       "      <td>...</td>\n",
       "      <td>...</td>\n",
       "      <td>...</td>\n",
       "    </tr>\n",
       "    <tr>\n",
       "      <th>2022-06-28</th>\n",
       "      <td>0.011274</td>\n",
       "      <td>233.8000</td>\n",
       "      <td>20742.56</td>\n",
       "    </tr>\n",
       "    <tr>\n",
       "      <th>2022-06-29</th>\n",
       "      <td>0.011193</td>\n",
       "      <td>226.9000</td>\n",
       "      <td>20281.29</td>\n",
       "    </tr>\n",
       "    <tr>\n",
       "      <th>2022-06-30</th>\n",
       "      <td>0.010918</td>\n",
       "      <td>219.7000</td>\n",
       "      <td>20123.01</td>\n",
       "    </tr>\n",
       "    <tr>\n",
       "      <th>2022-07-01</th>\n",
       "      <td>0.011008</td>\n",
       "      <td>219.6000</td>\n",
       "      <td>19942.21</td>\n",
       "    </tr>\n",
       "    <tr>\n",
       "      <th>2022-07-02</th>\n",
       "      <td>0.011196</td>\n",
       "      <td>217.8000</td>\n",
       "      <td>19462.68</td>\n",
       "    </tr>\n",
       "  </tbody>\n",
       "</table>\n",
       "<p>913 rows × 3 columns</p>\n",
       "</div>"
      ],
      "text/plain": [
       "Symbol        BNBBTC   BNBUSDT   BTCUSDT\n",
       "CloseTime                               \n",
       "2020-01-02  0.001904   13.7184   7200.85\n",
       "2020-01-03  0.001867   13.0105   6965.71\n",
       "2020-01-04  0.001859   13.6474   7344.96\n",
       "2020-01-05  0.001876   13.8092   7354.11\n",
       "2020-01-06  0.001909   14.0532   7358.75\n",
       "...              ...       ...       ...\n",
       "2022-06-28  0.011274  233.8000  20742.56\n",
       "2022-06-29  0.011193  226.9000  20281.29\n",
       "2022-06-30  0.010918  219.7000  20123.01\n",
       "2022-07-01  0.011008  219.6000  19942.21\n",
       "2022-07-02  0.011196  217.8000  19462.68\n",
       "\n",
       "[913 rows x 3 columns]"
      ]
     },
     "execution_count": 11,
     "metadata": {},
     "output_type": "execute_result"
    }
   ],
   "source": [
    "prices\n"
   ]
  },
  {
   "cell_type": "code",
   "execution_count": 12,
   "id": "449a8d68",
   "metadata": {},
   "outputs": [
    {
     "data": {
      "text/plain": [
       "CloseTime\n",
       "2020-01-02     7206.934594\n",
       "2020-01-03     6967.919880\n",
       "2020-01-04     7340.074221\n",
       "2020-01-05     7359.411639\n",
       "2020-01-06     7362.707602\n",
       "                  ...     \n",
       "2022-06-28    20737.981196\n",
       "2022-06-29    20271.598320\n",
       "2022-06-30    20122.733101\n",
       "2022-07-01    19949.127907\n",
       "2022-07-02    19453.376206\n",
       "Length: 913, dtype: float64"
      ]
     },
     "execution_count": 12,
     "metadata": {},
     "output_type": "execute_result"
    }
   ],
   "source": [
    "(prices.BNBUSDT / prices.BNBBTC)"
   ]
  },
  {
   "cell_type": "code",
   "execution_count": null,
   "id": "25405bf9",
   "metadata": {},
   "outputs": [],
   "source": []
  }
 ],
 "metadata": {
  "kernelspec": {
   "display_name": "Python 3 (ipykernel)",
   "language": "python",
   "name": "python3"
  },
  "language_info": {
   "codemirror_mode": {
    "name": "ipython",
    "version": 3
   },
   "file_extension": ".py",
   "mimetype": "text/x-python",
   "name": "python",
   "nbconvert_exporter": "python",
   "pygments_lexer": "ipython3",
   "version": "3.9.12"
  }
 },
 "nbformat": 4,
 "nbformat_minor": 5
}
